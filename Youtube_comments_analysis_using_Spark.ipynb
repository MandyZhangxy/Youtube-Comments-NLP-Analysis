{
  "nbformat": 4,
  "nbformat_minor": 0,
  "metadata": {
    "colab": {
      "name": "Youtube comments analysis using Spark",
      "provenance": [],
      "collapsed_sections": [],
      "authorship_tag": "ABX9TyPgnmw4f/0QlENtU74QaXMS",
      "include_colab_link": true
    },
    "kernelspec": {
      "name": "python3",
      "display_name": "Python 3"
    }
  },
  "cells": [
    {
      "cell_type": "markdown",
      "metadata": {
        "id": "view-in-github",
        "colab_type": "text"
      },
      "source": [
        "<a href=\"https://colab.research.google.com/github/MandyZhangxy/Youtube-Comments-NLP-Analysis/blob/master/Youtube_comments_analysis_using_Spark.ipynb\" target=\"_parent\"><img src=\"https://colab.research.google.com/assets/colab-badge.svg\" alt=\"Open In Colab\"/></a>"
      ]
    },
    {
      "cell_type": "markdown",
      "metadata": {
        "id": "pvZONDaBJBjk",
        "colab_type": "text"
      },
      "source": [
        "# **Youtube comments analysis using Spark**"
      ]
    },
    {
      "cell_type": "markdown",
      "metadata": {
        "id": "BQAo8Gm-JG5P",
        "colab_type": "text"
      },
      "source": [
        "### **0.1 Introduction**\n",
        "In this notebook, I have a dataset of user comments for youtube videos related to animals or pets. I will attempt to identify cat or dog owners based on these comments, find out the topics important to them, and then identify video creators with the most viewers that are cat or dog owners.\n",
        "\n",
        "I will use a recent version of PySpark (version 2.2 or higher) to analyze the data:\n",
        "\n",
        "Step 1: Identify Cat And Dog Owners Find the users who are cat and/or dog owners.\n",
        "\n",
        "Step 2: Build And Evaluate Classifiers Build classifiers for the cat and dog owners and measure the performance of the classifiers.\n",
        "\n",
        "Step 3: Classify All The Users Apply the cat/dog classifiers to all the users in the dataset. Estimate the fraction of all users who are cat/dog owners.\n",
        "\n",
        "Step 4: Extract Insights About Cat And Dog Owners Find topics important to cat and dog owners.\n",
        "\n",
        "Step 5: Identify Creators With Cat And Dog Owners In The Audience Find creators with the most cat and/or dog owners. Find creators with the highest statistically significant percentages of cat and/or dog owners."
      ]
    },
    {
      "cell_type": "code",
      "metadata": {
        "id": "DBMARTClI_q5",
        "colab_type": "code",
        "colab": {}
      },
      "source": [
        ""
      ],
      "execution_count": null,
      "outputs": []
    }
  ]
}